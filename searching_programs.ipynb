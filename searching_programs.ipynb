{
 "cells": [
  {
   "cell_type": "markdown",
   "metadata": {},
   "source": [
    "'''\n",
    "<br>\n",
    "@Author: Ayush Prajapati<br>\n",
    "@Date: 15-08-2024<br>\n",
    "@Last Modified by: Ayush Prajapati<br>\n",
    "@Last Modified time: 17-08-2024<br>\n",
    "@Title: Python Program on Searching<br>\n",
    "<br>\n",
    "'''"
   ]
  },
  {
   "cell_type": "markdown",
   "metadata": {},
   "source": [
    "## Binary Search"
   ]
  },
  {
   "cell_type": "code",
   "execution_count": 2,
   "metadata": {},
   "outputs": [],
   "source": [
    "def binary_search(arr, low, high, target):\n",
    "    \"\"\"\n",
    "    Description: \n",
    "        Perform binary Search\n",
    "    Parameters:\n",
    "        arr: array of elements\n",
    "        low: lower index\n",
    "        high: upper index\n",
    "        target: element to be searched\n",
    "    Return:\n",
    "        int: index of target element\n",
    "    \"\"\"\n",
    "    while low <= high:\n",
    "\n",
    "        mid = low + (high - low) // 2\n",
    "\n",
    "        # Check if target is present at mid\n",
    "        if arr[mid] == target:\n",
    "            return mid\n",
    "\n",
    "        # If target is greater, search right half\n",
    "        elif arr[mid] < target:\n",
    "            low = mid + 1\n",
    "\n",
    "        # If target is smaller, ignore right half\n",
    "        else:\n",
    "            high = mid - 1\n",
    "\n",
    "    # Element not present\n",
    "    return -1"
   ]
  },
  {
   "cell_type": "code",
   "execution_count": 5,
   "metadata": {},
   "outputs": [
    {
     "name": "stdout",
     "output_type": "stream",
     "text": [
      "The entered list is: [12, 32, 67, 54, 23]\n",
      "Element 27 is not present in array\n"
     ]
    }
   ],
   "source": [
    "def main():\n",
    "    n = int(input(\"Enter number of element is the list: \"))\n",
    "    nums = [(int(input(f\"Enter {i+1} element\"))) for i in range(n)]\n",
    "    print(f\"The entered list is: {nums}\")\n",
    "    target= int(input(\"\\nEnter the value to be searched: \"))\n",
    "\n",
    "    result = binary_search(nums, 0, len(nums), target)\n",
    "    if result != -1:\n",
    "        print(f\"Element {target} is present at index\", result)\n",
    "    else:\n",
    "        print(f\"Element {target} is not present in array\")\n",
    "\n",
    "\n",
    "if __name__ == '__main__':\n",
    "    main()"
   ]
  },
  {
   "cell_type": "markdown",
   "metadata": {},
   "source": [
    "## Breadth first search in BST<br>\n",
    "(Level order traversal)"
   ]
  },
  {
   "cell_type": "code",
   "execution_count": 7,
   "metadata": {},
   "outputs": [
    {
     "name": "stdout",
     "output_type": "stream",
     "text": [
      "Value 17 found in the BST.\n"
     ]
    }
   ],
   "source": [
    "class Node:\n",
    "    def __init__(self, value):\n",
    "        \"\"\"\n",
    "        Description: \n",
    "            Initializes a new node with the given value.\n",
    "        Parameters:\n",
    "            value (int): The value to be stored in the node.\n",
    "        Return:\n",
    "            None\n",
    "        \"\"\"\n",
    "        self.left = None\n",
    "        self.right = None\n",
    "        self.val = value\n",
    "\n",
    "\n",
    "def insert(root, value):\n",
    "    \"\"\"\n",
    "    Description: \n",
    "        Inserts a new node with the given value into the BST.\n",
    "    Parameters:\n",
    "        root (Node): The root node of the BST or subtree.\n",
    "        value (int): The value to be inserted into the BST.\n",
    "    Return:\n",
    "        Node: The root node of the updated BST.\n",
    "    \"\"\"\n",
    "    if root is None:\n",
    "        return Node(value)\n",
    "    \n",
    "    if value < root.val:\n",
    "        root.left = insert(root.left, value)\n",
    "    else:\n",
    "        root.right = insert(root.right, value)\n",
    "    \n",
    "    return root\n",
    "\n",
    "\n",
    "def bfs_search(root, target):\n",
    "    \"\"\"\n",
    "    Description: \n",
    "        Performs a BFS/Level-order traversal to search for a target value in the BST.\n",
    "    Parameters:\n",
    "        root (Node): The root node of the BST or subtree.\n",
    "        target (int): The value to search for in the BST.\n",
    "    Return:\n",
    "        bool\n",
    "    \"\"\"\n",
    "    if root is None:\n",
    "        return False\n",
    "    \n",
    "    queue = [root]  # Using a simple list as a queue\n",
    "    \n",
    "    while queue:\n",
    "        node = queue.pop(0)\n",
    "        \n",
    "        if node.val == target:\n",
    "            return True\n",
    "        \n",
    "        if node.left:\n",
    "            queue.append(node.left)\n",
    "        if node.right:\n",
    "            queue.append(node.right)\n",
    "    \n",
    "    return False\n",
    "\n",
    "\n",
    "def main():\n",
    "    # Creating a tree\n",
    "    root = Node(10)\n",
    "    root = insert(root, 6)\n",
    "    root = insert(root, 15)\n",
    "    root = insert(root, 3)\n",
    "    root = insert(root, 8)\n",
    "    root = insert(root, 12)\n",
    "    root = insert(root, 17)\n",
    "\n",
    "    # Searching for a value\n",
    "    target = 17\n",
    "    if bfs_search(root, target):\n",
    "        print(f\"Value {target} found in the BST.\")\n",
    "    else:\n",
    "        print(f\"Value {target} not found in the BST.\")\n",
    "\n",
    "\n",
    "if __name__ == '__main__':\n",
    "    main()\n"
   ]
  }
 ],
 "metadata": {
  "kernelspec": {
   "display_name": "Python 3",
   "language": "python",
   "name": "python3"
  },
  "language_info": {
   "codemirror_mode": {
    "name": "ipython",
    "version": 3
   },
   "file_extension": ".py",
   "mimetype": "text/x-python",
   "name": "python",
   "nbconvert_exporter": "python",
   "pygments_lexer": "ipython3",
   "version": "3.10.12"
  }
 },
 "nbformat": 4,
 "nbformat_minor": 2
}
