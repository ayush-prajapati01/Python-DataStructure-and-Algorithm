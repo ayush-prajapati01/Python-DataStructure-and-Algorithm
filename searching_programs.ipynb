{
 "cells": [
  {
   "cell_type": "markdown",
   "metadata": {},
   "source": [
    "'''\n",
    "<br>\n",
    "@Author: Ayush Prajapati<br>\n",
    "@Date: 15-07-2024<br>\n",
    "@Last Modified by: Ayush Prajapati<br>\n",
    "@Last Modified time: 16-07-2024<br>\n",
    "@Title: Python Program on Searching<br>\n",
    "<br>\n",
    "'''"
   ]
  },
  {
   "cell_type": "markdown",
   "metadata": {},
   "source": [
    "## Binary Search"
   ]
  },
  {
   "cell_type": "code",
   "execution_count": 14,
   "metadata": {},
   "outputs": [],
   "source": [
    "def binary_search(arr, low, high, target):\n",
    "    \"\"\"\n",
    "    Description: \n",
    "        Perform binary Search\n",
    "    Parameters:\n",
    "        arr: array of elements\n",
    "        low: lower index\n",
    "        high: upper index\n",
    "        target: element to be searched\n",
    "    Return:\n",
    "        int: index of target element\n",
    "    \"\"\"\n",
    "    while low <= high:\n",
    "\n",
    "        mid = low + (high - low) // 2\n",
    "\n",
    "        # Check if target is present at mid\n",
    "        if arr[mid] == target:\n",
    "            return mid\n",
    "\n",
    "        # If target is greater, search right half\n",
    "        elif arr[mid] < target:\n",
    "            low = mid + 1\n",
    "\n",
    "        # If target is smaller, ignore right half\n",
    "        else:\n",
    "            high = mid - 1\n",
    "\n",
    "    # Element not present\n",
    "    return -1"
   ]
  },
  {
   "cell_type": "code",
   "execution_count": 16,
   "metadata": {},
   "outputs": [
    {
     "name": "stdout",
     "output_type": "stream",
     "text": [
      "The entered list is: [1, 2, 3, 4, 5]\n",
      "Element is present at index 2\n"
     ]
    }
   ],
   "source": [
    "if __name__ == '__main__':\n",
    "    n = int(input(\"Enter number of element is the list: \"))\n",
    "    nums = [(int(input(f\"Enter {i+1} element\"))) for i in range(n)]\n",
    "    print(f\"The entered list is: {nums}\")\n",
    "    target= int(input(\"\\nEnter the value to be searched: \"))\n",
    "\n",
    "    result = binary_search(nums, 0, len(nums), target)\n",
    "    if result != -1:\n",
    "        print(\"Element is present at index\", result)\n",
    "    else:\n",
    "        print(\"Element is not present in array\")"
   ]
  }
 ],
 "metadata": {
  "kernelspec": {
   "display_name": "Python 3",
   "language": "python",
   "name": "python3"
  },
  "language_info": {
   "codemirror_mode": {
    "name": "ipython",
    "version": 3
   },
   "file_extension": ".py",
   "mimetype": "text/x-python",
   "name": "python",
   "nbconvert_exporter": "python",
   "pygments_lexer": "ipython3",
   "version": "3.10.12"
  }
 },
 "nbformat": 4,
 "nbformat_minor": 2
}
