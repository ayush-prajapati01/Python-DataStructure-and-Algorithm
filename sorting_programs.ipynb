{
 "cells": [
  {
   "cell_type": "markdown",
   "metadata": {},
   "source": [
    "'''\n",
    "<br>\n",
    "@Author: Ayush Prajapati<br>\n",
    "@Date: 13-07-2024<br>\n",
    "@Last Modified by: Ayush Prajapati<br>\n",
    "@Last Modified time: 13-07-2024<br>\n",
    "@Title: Python Sorting Programs<br>\n",
    "<br>\n",
    "'''"
   ]
  },
  {
   "cell_type": "code",
   "execution_count": 4,
   "metadata": {},
   "outputs": [],
   "source": [
    "import numpy as np\n",
    "from logging_helper import create_logger"
   ]
  },
  {
   "cell_type": "markdown",
   "metadata": {},
   "source": [
    "## Selection Sort"
   ]
  },
  {
   "cell_type": "code",
   "execution_count": 33,
   "metadata": {},
   "outputs": [],
   "source": [
    "def selection_sort(arr, n):\n",
    "    \"\"\"\n",
    "    Description:\n",
    "        Sorts a list in ascending order using the selection sort algorithm.\n",
    "    Parameters:\n",
    "        arr (array): The array of elements to be sorted.\n",
    "        n = No of element in array\n",
    "    Returns:\n",
    "        arr: The sorted list with elements in ascending order.\n",
    "    \"\"\"\n",
    "    for i in range(n-1):\n",
    "        imin = i\n",
    "        for j in range(i+1, n):\n",
    "            if arr[j] < arr[imin]:\n",
    "                imin = j\n",
    "                \n",
    "        temp = arr[imin]\n",
    "        arr[imin] = arr[i]         \n",
    "        arr[i] = temp\n",
    "    \n",
    "    return arr"
   ]
  },
  {
   "cell_type": "code",
   "execution_count": 32,
   "metadata": {},
   "outputs": [
    {
     "name": "stderr",
     "output_type": "stream",
     "text": [
      "2024-08-14 13:22:48,161:INFO:selection_sort:\n",
      "The original array is: [1 5 6 2 6]\n",
      "2024-08-14 13:22:48,163:INFO:selection_sort:\n",
      "The sorted array is: [1 2 5 6 6]\n"
     ]
    }
   ],
   "source": [
    "def main():\n",
    "    logger = create_logger('selection_sort')\n",
    "    n = int(input(\"Enter number of elements in the array: \"))\n",
    "    arr = np.array([(int(input(f\"Enter {i+1} element: \"))) for i in range(n)])\n",
    "    logger.info(f\"\\nThe original array is: {arr}\")\n",
    "    sorted_arr = selection_sort(arr, n)\n",
    "    logger.info(f\"\\nThe sorted array is: {sorted_arr}\")\n",
    "\n",
    "\n",
    "if __name__ == \"__main__\":\n",
    "    main()"
   ]
  },
  {
   "cell_type": "markdown",
   "metadata": {},
   "source": [
    "## Bubble Sort"
   ]
  },
  {
   "cell_type": "code",
   "execution_count": 55,
   "metadata": {},
   "outputs": [],
   "source": [
    "def bubble_sort(arr, n):\n",
    "    \"\"\"\n",
    "    Description:\n",
    "        Sorts a list in ascending order using the selection sort algorithm.\n",
    "    Parameters:\n",
    "        arr (array): The array of elements to be sorted.\n",
    "        n = No of element in array\n",
    "    Returns:\n",
    "        arr: The sorted list with elements in ascending order.\n",
    "    \"\"\"\n",
    "    for i in range(n-1, 0, -1):\n",
    "        for j in range(i):\n",
    "            if arr[j] > arr[j+1]:\n",
    "                arr[j], arr[j+1] = arr[j+1], arr[j]\n",
    "    return arr"
   ]
  },
  {
   "cell_type": "code",
   "execution_count": 56,
   "metadata": {},
   "outputs": [
    {
     "name": "stderr",
     "output_type": "stream",
     "text": [
      "2024-08-14 14:33:24,520:INFO:bubble_sort:\n",
      "The original array is: [13  9 24 20 54 46]\n",
      "2024-08-14 14:33:24,522:INFO:bubble_sort:\n",
      "The sorted array is: [ 9 13 20 24 46 54]\n"
     ]
    }
   ],
   "source": [
    "def main():\n",
    "    logger = create_logger('bubble_sort')\n",
    "    n = int(input(\"Enter number of elements in the array: \"))\n",
    "    arr = np.array([(int(input(f\"Enter {i+1} element: \"))) for i in range(n)])\n",
    "    logger.info(f\"\\nThe original array is: {arr}\")\n",
    "    sorted_arr = bubble_sort(arr, n)\n",
    "    logger.info(f\"\\nThe sorted array is: {sorted_arr}\")\n",
    "\n",
    "\n",
    "if __name__ == \"__main__\":\n",
    "    main()"
   ]
  },
  {
   "cell_type": "markdown",
   "metadata": {},
   "source": [
    "## Merge Sort\n"
   ]
  },
  {
   "cell_type": "code",
   "execution_count": 1,
   "metadata": {},
   "outputs": [],
   "source": [
    "def mergeSort(arr):\n",
    "    if len(arr) <= 1:\n",
    "        return arr\n",
    "\n",
    "    mid = len(arr) // 2\n",
    "    left_Half = arr[:mid]\n",
    "    right_Half = arr[mid:]\n",
    "\n",
    "    sorted_Left = mergeSort(left_Half)\n",
    "    sorted_Right = mergeSort(right_Half)\n",
    "\n",
    "    return merge(sorted_Left, sorted_Right)\n",
    "\n",
    "def merge(left, right):\n",
    "    result = []\n",
    "    i = j = 0\n",
    "\n",
    "    while i < len(left) and j < len(right):\n",
    "        if left[i] < right[j]:\n",
    "            result.append(left[i])\n",
    "            i += 1\n",
    "        else:\n",
    "            result.append(right[j])\n",
    "            j += 1\n",
    "\n",
    "    result.extend(left[i:])\n",
    "    result.extend(right[j:])\n",
    "\n",
    "    return result\n"
   ]
  },
  {
   "cell_type": "code",
   "execution_count": 4,
   "metadata": {},
   "outputs": [],
   "source": [
    "def main():\n",
    "    logger = create_logger('merge_sort')\n",
    "    n = int(input(\"Enter number of elements in the array: \"))\n",
    "    # arr = [3, 7, 6, -10, 15, 23.5, 55, -13]\n",
    "    arr = np.array([(int(input(f\"Enter {i+1} element: \"))) for i in range(n)])\n",
    "    logger.info(f\"\\nThe original array is: {arr}\")\n",
    "    sorted_arr = mergeSort(arr)\n",
    "    logger.info(f\"\\nThe sorted array is: {sorted_arr}\")\n",
    "\n",
    "\n",
    "if __name__ == \"__main__\":\n",
    "    main()"
   ]
  },
  {
   "cell_type": "markdown",
   "metadata": {},
   "source": [
    "## Quick Sort"
   ]
  },
  {
   "cell_type": "code",
   "execution_count": 2,
   "metadata": {},
   "outputs": [],
   "source": [
    "def pivot_partition(arr, low, high):\n",
    "    pivot = arr[high]\n",
    "    i = low - 1\n",
    "\n",
    "    for j in range(low, high):\n",
    "        if arr[j] <= pivot:\n",
    "            i += 1\n",
    "            arr[i], arr[j] = arr[j], arr[i]\n",
    "\n",
    "    arr[i+1], arr[high] = arr[high], arr[i+1]\n",
    "    return i+1\n",
    "\n",
    "def quick_sort(arr, low=0, high=None):\n",
    "    if high is None:\n",
    "        high = len(arr) - 1\n",
    "\n",
    "    if low < high:\n",
    "        pivot_index = pivot_partition(arr, low, high)\n",
    "        quick_sort(arr, low, pivot_index-1)\n",
    "        quick_sort(arr, pivot_index+1, high)\n",
    "    \n",
    "    return arr\n",
    "    \n"
   ]
  },
  {
   "cell_type": "code",
   "execution_count": 5,
   "metadata": {},
   "outputs": [
    {
     "name": "stderr",
     "output_type": "stream",
     "text": [
      "2024-08-14 17:43:57,975:INFO:quick_sort:\n",
      "The original array is: [23 12 98 23  1]\n",
      "2024-08-14 17:43:57,978:INFO:quick_sort:\n",
      "The sorted array is: [ 1 12 23 23 98]\n"
     ]
    }
   ],
   "source": [
    "def main():\n",
    "    logger = create_logger('quick_sort')\n",
    "    n = int(input(\"Enter number of elements in the array: \"))\n",
    "    # arr = [64, 34, 25, 12, 22, 11, 90, 5]\n",
    "    arr = np.array([(int(input(f\"Enter {i+1} element: \"))) for i in range(n)])\n",
    "    logger.info(f\"\\nThe original array is: {arr}\")\n",
    "    sorted_arr = quick_sort(arr)\n",
    "    logger.info(f\"\\nThe sorted array is: {sorted_arr}\")\n",
    "\n",
    "\n",
    "if __name__ == \"__main__\":\n",
    "    main()"
   ]
  }
 ],
 "metadata": {
  "kernelspec": {
   "display_name": "Python 3",
   "language": "python",
   "name": "python3"
  },
  "language_info": {
   "codemirror_mode": {
    "name": "ipython",
    "version": 3
   },
   "file_extension": ".py",
   "mimetype": "text/x-python",
   "name": "python",
   "nbconvert_exporter": "python",
   "pygments_lexer": "ipython3",
   "version": "3.10.12"
  }
 },
 "nbformat": 4,
 "nbformat_minor": 2
}
