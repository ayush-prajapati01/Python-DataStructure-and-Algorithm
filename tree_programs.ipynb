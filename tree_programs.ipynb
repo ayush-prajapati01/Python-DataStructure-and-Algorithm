{
 "cells": [
  {
   "cell_type": "markdown",
   "metadata": {},
   "source": [
    "'''\n",
    "<br>\n",
    "@Author: Ayush Prajapati<br>\n",
    "@Date: 15-07-2024<br>\n",
    "@Last Modified by: Ayush Prajapati<br>\n",
    "@Last Modified time: 16-07-2024<br>\n",
    "@Title: Python Program on Trees<br>\n",
    "<br>\n",
    "'''"
   ]
  },
  {
   "cell_type": "markdown",
   "metadata": {},
   "source": [
    "## Tree Implementation"
   ]
  },
  {
   "cell_type": "code",
   "execution_count": 4,
   "metadata": {},
   "outputs": [],
   "source": [
    "class TreeNode:\n",
    "    def __init__(self, data):\n",
    "        \"\"\"\n",
    "        Description: \n",
    "            creates a new node\n",
    "        Parameters:\n",
    "            data: value of the node\n",
    "            self\n",
    "        Return:\n",
    "            None\n",
    "        \"\"\"\n",
    "        self.data = data\n",
    "        self.children = []\n",
    "        self.parent = None\n",
    "\n",
    "\n",
    "    def get_level(self):\n",
    "        \"\"\"\n",
    "        Description: \n",
    "            Get the level of tree\n",
    "        Parameters:\n",
    "            self\n",
    "        Return:\n",
    "            int: level\n",
    "        \"\"\"\n",
    "        level = 0\n",
    "        p = self.parent\n",
    "        while p:\n",
    "            level += 1\n",
    "            p = p.parent\n",
    "\n",
    "        return level\n",
    "\n",
    "\n",
    "    def print_tree(self):\n",
    "        \"\"\"\n",
    "        Description: \n",
    "            Display the trees\n",
    "        Parameters:\n",
    "            self\n",
    "        Return:\n",
    "            None\n",
    "        \"\"\"\n",
    "        spaces = ' ' * self.get_level() * 3\n",
    "        prefix = spaces + \"|__\" if self.parent else \"\"\n",
    "        print(prefix + self.data)\n",
    "        if self.children:\n",
    "            for child in self.children:\n",
    "                child.print_tree()\n",
    "\n",
    "\n",
    "    def add_child(self, child):\n",
    "        \"\"\"\n",
    "        Description: \n",
    "            Add child to parent node\n",
    "        Parameters:\n",
    "            child: the child node(object)\n",
    "            self\n",
    "        Return:\n",
    "            None\n",
    "        \"\"\"\n",
    "        child.parent = self\n",
    "        self.children.append(child)\n"
   ]
  },
  {
   "cell_type": "code",
   "execution_count": 5,
   "metadata": {},
   "outputs": [
    {
     "name": "stdout",
     "output_type": "stream",
     "text": [
      "Electronics\n",
      "   |__Laptop\n",
      "      |__Macbook\n",
      "      |__HP Omen\n",
      "      |__Asus TUF\n",
      "   |__Mobile Phone\n",
      "      |__iPhone\n",
      "      |__Google Pixel\n",
      "      |__Nothing Phone\n",
      "   |__TV\n",
      "      |__Sony\n",
      "      |__LG\n",
      "      |__Smart-TV\n",
      "         |__Xioami\n",
      "         |__One Plus\n"
     ]
    }
   ],
   "source": [
    "def main():\n",
    "    root = TreeNode(\"Electronics\")\n",
    "\n",
    "    laptop = TreeNode(\"Laptop\")\n",
    "    laptop.add_child(TreeNode(\"Macbook\"))\n",
    "    laptop.add_child(TreeNode(\"HP Omen\"))\n",
    "    laptop.add_child(TreeNode(\"Asus TUF\"))\n",
    "\n",
    "    cellphone = TreeNode(\"Mobile Phone\")\n",
    "    cellphone.add_child(TreeNode(\"iPhone\"))\n",
    "    cellphone.add_child(TreeNode(\"Google Pixel\"))\n",
    "    cellphone.add_child(TreeNode(\"Nothing Phone\"))\n",
    "\n",
    "    tv = TreeNode(\"TV\")\n",
    "    tv.add_child(TreeNode(\"Sony\"))\n",
    "    tv.add_child(TreeNode(\"LG\"))\n",
    "\n",
    "    smart_tv = TreeNode(\"Smart-TV\")\n",
    "    smart_tv.add_child(TreeNode(\"Xioami\"))\n",
    "    smart_tv.add_child(TreeNode(\"One Plus\"))\n",
    "\n",
    "    root.add_child(laptop)\n",
    "    root.add_child(cellphone)\n",
    "    root.add_child(tv)\n",
    "    tv.add_child(smart_tv)\n",
    "\n",
    "    root.print_tree()\n",
    "\n",
    "\n",
    "if __name__ == '__main__':\n",
    "    main()"
   ]
  }
 ],
 "metadata": {
  "kernelspec": {
   "display_name": "Python 3",
   "language": "python",
   "name": "python3"
  },
  "language_info": {
   "codemirror_mode": {
    "name": "ipython",
    "version": 3
   },
   "file_extension": ".py",
   "mimetype": "text/x-python",
   "name": "python",
   "nbconvert_exporter": "python",
   "pygments_lexer": "ipython3",
   "version": "3.10.12"
  }
 },
 "nbformat": 4,
 "nbformat_minor": 2
}
