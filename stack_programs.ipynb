{
 "cells": [
  {
   "cell_type": "markdown",
   "metadata": {},
   "source": [
    "'''\n",
    "<br>\n",
    "@Author: Ayush Prajapati<br>\n",
    "@Date: 15-07-2024<br>\n",
    "@Last Modified by: Ayush Prajapati<br>\n",
    "@Last Modified time: 16-07-2024<br>\n",
    "@Title: Python Program on Stack<br>\n",
    "<br>\n",
    "'''"
   ]
  },
  {
   "cell_type": "markdown",
   "metadata": {},
   "source": [
    "## Stack Implementation"
   ]
  },
  {
   "cell_type": "code",
   "execution_count": 3,
   "metadata": {},
   "outputs": [],
   "source": [
    "class Stack:\n",
    "    def __init__(self):\n",
    "        self.stack = []\n",
    "\n",
    "    def is_empty(self):\n",
    "        \"\"\"\n",
    "        Description: \n",
    "            checks whether stack is empty\n",
    "        Parameters:\n",
    "            self\n",
    "        Return:\n",
    "            boolean\n",
    "        \"\"\"\n",
    "        return len(self.stack) == 0\n",
    "\n",
    "    def push(self, item):\n",
    "        \"\"\"\n",
    "        Description: \n",
    "            Push item in stack\n",
    "        Parameters:\n",
    "            self\n",
    "        Return:\n",
    "            stack\n",
    "        \"\"\"\n",
    "        self.stack.append(item)\n",
    "\n",
    "    def pop(self):\n",
    "        \"\"\"\n",
    "        Description: \n",
    "            Pop item from stack\n",
    "        Parameters:\n",
    "            self\n",
    "        Return:\n",
    "            stack\n",
    "        \"\"\"\n",
    "        if self.is_empty():\n",
    "            return None\n",
    "        return self.stack.pop()\n",
    "\n",
    "    def peek(self):\n",
    "        \"\"\"\n",
    "        Description: \n",
    "            Print last item from stack\n",
    "        Parameters:\n",
    "            self\n",
    "        Return:\n",
    "            int\n",
    "        \"\"\"\n",
    "        if self.is_empty():\n",
    "            return None\n",
    "        return self.stack[-1]\n",
    "\n",
    "    def size(self):\n",
    "        \"\"\"\n",
    "        Description: \n",
    "            Return Size of the stack\n",
    "        Parameters:\n",
    "            self\n",
    "        Return:\n",
    "            int\n",
    "        \"\"\"\n",
    "        return len(self.stack)\n",
    "\n",
    "    def __str__(self):\n",
    "        return str(self.stack)"
   ]
  },
  {
   "cell_type": "code",
   "execution_count": 2,
   "metadata": {},
   "outputs": [
    {
     "name": "stdout",
     "output_type": "stream",
     "text": [
      "\n",
      "--- Stack Operations ---\n",
      "1. Push\n",
      "2. Pop\n",
      "3. Peek\n",
      "4. Check if Empty\n",
      "5. Get Size\n",
      "6. Print Stack\n",
      "7. Exit\n"
     ]
    },
    {
     "name": "stdout",
     "output_type": "stream",
     "text": [
      "Enter your choice (1-7):  1\n",
      "Enter the item to push:  2\n"
     ]
    },
    {
     "name": "stdout",
     "output_type": "stream",
     "text": [
      "Pushed 2 onto the stack.\n",
      "\n",
      "--- Stack Operations ---\n",
      "1. Push\n",
      "2. Pop\n",
      "3. Peek\n",
      "4. Check if Empty\n",
      "5. Get Size\n",
      "6. Print Stack\n",
      "7. Exit\n"
     ]
    },
    {
     "name": "stdout",
     "output_type": "stream",
     "text": [
      "Enter your choice (1-7):  1\n",
      "Enter the item to push:  3\n"
     ]
    },
    {
     "name": "stdout",
     "output_type": "stream",
     "text": [
      "Pushed 3 onto the stack.\n",
      "\n",
      "--- Stack Operations ---\n",
      "1. Push\n",
      "2. Pop\n",
      "3. Peek\n",
      "4. Check if Empty\n",
      "5. Get Size\n",
      "6. Print Stack\n",
      "7. Exit\n"
     ]
    },
    {
     "name": "stdout",
     "output_type": "stream",
     "text": [
      "Enter your choice (1-7):  6\n"
     ]
    },
    {
     "name": "stdout",
     "output_type": "stream",
     "text": [
      "Current stack: ['2', '3']\n",
      "\n",
      "--- Stack Operations ---\n",
      "1. Push\n",
      "2. Pop\n",
      "3. Peek\n",
      "4. Check if Empty\n",
      "5. Get Size\n",
      "6. Print Stack\n",
      "7. Exit\n"
     ]
    },
    {
     "name": "stdout",
     "output_type": "stream",
     "text": [
      "Enter your choice (1-7):  4\n"
     ]
    },
    {
     "name": "stdout",
     "output_type": "stream",
     "text": [
      "Stack is not empty.\n",
      "\n",
      "--- Stack Operations ---\n",
      "1. Push\n",
      "2. Pop\n",
      "3. Peek\n",
      "4. Check if Empty\n",
      "5. Get Size\n",
      "6. Print Stack\n",
      "7. Exit\n"
     ]
    },
    {
     "name": "stdout",
     "output_type": "stream",
     "text": [
      "Enter your choice (1-7):  3\n"
     ]
    },
    {
     "name": "stdout",
     "output_type": "stream",
     "text": [
      "Top element is: 3\n",
      "\n",
      "--- Stack Operations ---\n",
      "1. Push\n",
      "2. Pop\n",
      "3. Peek\n",
      "4. Check if Empty\n",
      "5. Get Size\n",
      "6. Print Stack\n",
      "7. Exit\n"
     ]
    },
    {
     "name": "stdout",
     "output_type": "stream",
     "text": [
      "Enter your choice (1-7):  5\n"
     ]
    },
    {
     "name": "stdout",
     "output_type": "stream",
     "text": [
      "Current size of the stack is: 2\n",
      "\n",
      "--- Stack Operations ---\n",
      "1. Push\n",
      "2. Pop\n",
      "3. Peek\n",
      "4. Check if Empty\n",
      "5. Get Size\n",
      "6. Print Stack\n",
      "7. Exit\n"
     ]
    },
    {
     "name": "stdout",
     "output_type": "stream",
     "text": [
      "Enter your choice (1-7):  1\n",
      "Enter the item to push:  23\n"
     ]
    },
    {
     "name": "stdout",
     "output_type": "stream",
     "text": [
      "Pushed 23 onto the stack.\n",
      "\n",
      "--- Stack Operations ---\n",
      "1. Push\n",
      "2. Pop\n",
      "3. Peek\n",
      "4. Check if Empty\n",
      "5. Get Size\n",
      "6. Print Stack\n",
      "7. Exit\n"
     ]
    },
    {
     "name": "stdout",
     "output_type": "stream",
     "text": [
      "Enter your choice (1-7):  5\n"
     ]
    },
    {
     "name": "stdout",
     "output_type": "stream",
     "text": [
      "Current size of the stack is: 3\n",
      "\n",
      "--- Stack Operations ---\n",
      "1. Push\n",
      "2. Pop\n",
      "3. Peek\n",
      "4. Check if Empty\n",
      "5. Get Size\n",
      "6. Print Stack\n",
      "7. Exit\n"
     ]
    },
    {
     "name": "stdout",
     "output_type": "stream",
     "text": [
      "Enter your choice (1-7):  2\n"
     ]
    },
    {
     "name": "stdout",
     "output_type": "stream",
     "text": [
      "Popped 23 from the stack.\n",
      "\n",
      "--- Stack Operations ---\n",
      "1. Push\n",
      "2. Pop\n",
      "3. Peek\n",
      "4. Check if Empty\n",
      "5. Get Size\n",
      "6. Print Stack\n",
      "7. Exit\n"
     ]
    },
    {
     "name": "stdout",
     "output_type": "stream",
     "text": [
      "Enter your choice (1-7):  6\n"
     ]
    },
    {
     "name": "stdout",
     "output_type": "stream",
     "text": [
      "Current stack: ['2', '3']\n",
      "\n",
      "--- Stack Operations ---\n",
      "1. Push\n",
      "2. Pop\n",
      "3. Peek\n",
      "4. Check if Empty\n",
      "5. Get Size\n",
      "6. Print Stack\n",
      "7. Exit\n"
     ]
    },
    {
     "name": "stdout",
     "output_type": "stream",
     "text": [
      "Enter your choice (1-7):  7\n"
     ]
    },
    {
     "name": "stdout",
     "output_type": "stream",
     "text": [
      "Exiting...\n"
     ]
    }
   ],
   "source": [
    "def main():\n",
    "    stack = Stack()\n",
    "\n",
    "    while True:\n",
    "        print(\"\\n--- Stack Operations ---\")\n",
    "        print(\"1. Push\")\n",
    "        print(\"2. Pop\")\n",
    "        print(\"3. Peek\")\n",
    "        print(\"4. Check if Empty\")\n",
    "        print(\"5. Get Size\")\n",
    "        print(\"6. Print Stack\")\n",
    "        print(\"7. Exit\")\n",
    "\n",
    "        choice = input(\"Enter your choice (1-7): \")\n",
    "\n",
    "        if choice == '1':\n",
    "            item = input(\"Enter the item to push: \")\n",
    "            stack.push(item)\n",
    "            print(f\"Pushed {item} onto the stack.\")\n",
    "\n",
    "        elif choice == '2':\n",
    "            popped_item = stack.pop()\n",
    "            if popped_item is None:\n",
    "                print(\"Stack is empty, nothing to pop.\")\n",
    "            else:\n",
    "                print(f\"Popped {popped_item} from the stack.\")\n",
    "\n",
    "        elif choice == '3':\n",
    "            top_item = stack.peek()\n",
    "            if top_item is None:\n",
    "                print(\"Stack is empty, nothing to peek.\")\n",
    "            else:\n",
    "                print(f\"Top element is: {top_item}\")\n",
    "\n",
    "        elif choice == '4':\n",
    "            if stack.is_empty():\n",
    "                print(\"Stack is empty.\")\n",
    "            else:\n",
    "                print(\"Stack is not empty.\")\n",
    "\n",
    "        elif choice == '5':\n",
    "            print(f\"Current size of the stack is: {stack.size()}\")\n",
    "\n",
    "        elif choice == '6':\n",
    "            print(\"Current stack:\", stack)\n",
    "\n",
    "        elif choice == '7':\n",
    "            print(\"Exiting...\")\n",
    "            break\n",
    "\n",
    "        else:\n",
    "            print(\"Invalid choice! Please enter a number between 1 and 7.\")\n",
    "\n",
    "if __name__ == \"__main__\":\n",
    "    main()\n"
   ]
  },
  {
   "cell_type": "markdown",
   "metadata": {},
   "source": [
    "## Reverse String using Stack"
   ]
  },
  {
   "cell_type": "code",
   "execution_count": 4,
   "metadata": {},
   "outputs": [],
   "source": [
    "def reverse_string(string):\n",
    "    \"\"\"\n",
    "    Description: \n",
    "        This function reverses a string\n",
    "    Parameters:\n",
    "        string: string to be reversed\n",
    "    Return:\n",
    "        string: reversed string\n",
    "    \"\"\"\n",
    "    stack = Stack()\n",
    "\n",
    "    # Pushing in stack\n",
    "    for char in string:\n",
    "        stack.push(char)\n",
    "\n",
    "    ## Poping elements from stack and appending\n",
    "    reversed_string = \"\"\n",
    "    while not stack.is_empty():\n",
    "        reversed_string += stack.pop()\n",
    "\n",
    "    return reversed_string\n"
   ]
  },
  {
   "cell_type": "code",
   "execution_count": 6,
   "metadata": {},
   "outputs": [
    {
     "name": "stdout",
     "output_type": "stream",
     "text": [
      "Enter the string to be reversed:  ayush\n"
     ]
    },
    {
     "name": "stdout",
     "output_type": "stream",
     "text": [
      "\n",
      "The user input string is ayush\n",
      "\n",
      "The reversed string is hsuya\n"
     ]
    }
   ],
   "source": [
    "def main():\n",
    "    user_input = input(\"Enter the string to be reversed: \")\n",
    "    print(f\"\\nThe user input string is {user_input}\")\n",
    "    print(f\"\\nThe reversed string is {reverse_string(user_input)}\")\n",
    "\n",
    "\n",
    "if __name__ == \"__main__\":\n",
    "    main()"
   ]
  }
 ],
 "metadata": {
  "kernelspec": {
   "display_name": "Python 3 (ipykernel)",
   "language": "python",
   "name": "python3"
  },
  "language_info": {
   "codemirror_mode": {
    "name": "ipython",
    "version": 3
   },
   "file_extension": ".py",
   "mimetype": "text/x-python",
   "name": "python",
   "nbconvert_exporter": "python",
   "pygments_lexer": "ipython3",
   "version": "3.10.12"
  }
 },
 "nbformat": 4,
 "nbformat_minor": 4
}
